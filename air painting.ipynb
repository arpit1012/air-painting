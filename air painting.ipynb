{
 "cells": [
  {
   "cell_type": "code",
   "execution_count": 2,
   "metadata": {},
   "outputs": [],
   "source": [
    "import cv2\n",
    "import numpy as np\n",
    "from collections import deque # deque is used for fast pop and append with oi time complexity comapare to list with on time\n"
   ]
  },
  {
   "cell_type": "code",
   "execution_count": 11,
   "metadata": {},
   "outputs": [],
   "source": [
    "yellowlower=np.array([0,91,96])\n",
    "yellowupper=np.array([38,255,235])\n",
    "kernel =np.ones((5,5),np.uint8)"
   ]
  },
  {
   "cell_type": "code",
   "execution_count": 13,
   "metadata": {},
   "outputs": [],
   "source": [
    "bpoints=[deque(maxlen=512)]\n",
    "gpoints=[deque(maxlen=512)]\n",
    "rpoints=[deque(maxlen=512)]\n",
    "ypoints=[deque(maxlen=512)]\n",
    "\n",
    "bindex=0\n",
    "gindex=0\n",
    "rindex=0\n",
    "yindex=0\n",
    "\n",
    "colors=[(255,0,0),(0,255,0),(0,0,255),(0,255,255)]\n",
    "colorindex=0\n",
    "\n",
    "frame1 = np.zeros([480,640,3]) + 255\n",
    "\n",
    "frame1 = cv2.rectangle(frame1, (40,1), (140,65), (0,0,0), 2)\n",
    "frame1 = cv2.rectangle(frame1, (160,1), (255,65), colors[0], -1)\n",
    "frame1 = cv2.rectangle(frame1, (275,1), (370,65), colors[1], -1)\n",
    "frame1 = cv2.rectangle(frame1, (390,1), (485,65), colors[2], -1)\n",
    "frame1 = cv2.rectangle(frame1, (505,1), (600,65), colors[3], -1)\n",
    "# frame1 = cv2.rectangle(frame1, (620,1), (720,65), (0,0,0), 2)\n",
    "\n",
    "\n",
    "cv2.putText(frame1, \"CLEAR ALL\", (49, 33), cv2.FONT_HERSHEY_SIMPLEX, 0.5, (0, 0, 0), 2, cv2.LINE_AA)\n",
    "cv2.putText(frame1, \"BLUE\", (185, 33), cv2.FONT_HERSHEY_SIMPLEX, 0.5, (255, 255, 255), 2, cv2.LINE_AA)\n",
    "cv2.putText(frame1, \"GREEN\", (298, 33), cv2.FONT_HERSHEY_SIMPLEX, 0.5, (255, 255, 255), 2, cv2.LINE_AA)\n",
    "cv2.putText(frame1, \"RED\", (420, 33), cv2.FONT_HERSHEY_SIMPLEX, 0.5, (255, 255, 255), 2, cv2.LINE_AA)\n",
    "cv2.putText(frame1, \"YELLOW\", (520, 33), cv2.FONT_HERSHEY_SIMPLEX, 0.5, (150,150,150), 2, cv2.LINE_AA)\n",
    "# cv2.putText(frame1, \"SAVE\", (650, 33), cv2.FONT_HERSHEY_SIMPLEX, 0.5, (0,0,0), 2, cv2.LINE_AA)\n",
    "cv2.namedWindow('Paint', cv2.WINDOW_AUTOSIZE)\n",
    "camera = cv2.VideoCapture(0)\n",
    "# Keep looping\n",
    "while True:\n",
    "    # Grab the current paintWindow\n",
    "    (grabbed, frame) = camera.read()\n",
    "    \n",
    "    frame = cv2.flip(frame, 1)\n",
    "    hsv = cv2.cvtColor(frame, cv2.COLOR_BGR2HSV)\n",
    "\n",
    "    # Check to see if we have reached the end of the video (useful when input is a video file not a live video stream)\n",
    "   \n",
    "    \n",
    "    # Add the same paint interface to the camera feed captured through the webcam (for ease of usage)\n",
    "    frame = cv2.rectangle(frame, (30,65), (80,125), (0,0,0), 2)\n",
    "    frame = cv2.rectangle(frame, (100,65), (150,125), colors[0], -1)\n",
    "    frame = cv2.rectangle(frame, (170,65), (220,125), colors[1], -1)\n",
    "    frame = cv2.rectangle(frame, (240,65), (290,125), colors[2], -1)\n",
    "    frame = cv2.rectangle(frame, (310,65), (360,125), colors[3], -1)\n",
    "#     frame = cv2.rectangle(frame, (620,1), (720,65), (0,0,0), 2)\n",
    "\n",
    "\n",
    "    cv2.putText(frame, \"CLEAR ALL\", (39, 33), cv2.FONT_HERSHEY_SIMPLEX, 0.5, (0, 0, 0), 2, cv2.LINE_AA)\n",
    "    cv2.putText(frame, \"BLUE\", (110, 33), cv2.FONT_HERSHEY_SIMPLEX, 0.5, (255, 255, 255), 2, cv2.LINE_AA)\n",
    "    cv2.putText(frame, \"GREEN\", (180, 33), cv2.FONT_HERSHEY_SIMPLEX, 0.5, (255, 255, 255), 2, cv2.LINE_AA)\n",
    "    cv2.putText(frame, \"RED\", (250, 33), cv2.FONT_HERSHEY_SIMPLEX, 0.5, (255, 255, 255), 2, cv2.LINE_AA)\n",
    "    cv2.putText(frame, \"YELLOW\", (320, 33), cv2.FONT_HERSHEY_SIMPLEX, 0.5, (150,150,150), 2, cv2.LINE_AA)\n",
    "#     cv2.putText(frame, \"SAVE\", (650, 33), cv2.FONT_HERSHEY_SIMPLEX, 0.5, (0,0,0), 2, cv2.LINE_AA)\n",
    "    \n",
    "    if not grabbed:\n",
    "        break \n",
    "        # Determine which pixels fall within the yellow boundaries and then blur the binary image\n",
    "    yellowMask = cv2.inRange(hsv, yellowlower, yellowupper)\n",
    "    yellowMask = cv2.erode(yellowMask, kernel, iterations=2)\n",
    "    yellowMask = cv2.morphologyEx(yellowMask, cv2.MORPH_OPEN, kernel)\n",
    "    yellowMask = cv2.dilate(yellowMask, kernel, iterations=1)\n",
    "\n",
    "    # Find contours in the image\n",
    "    ( cnts, _) = cv2.findContours(yellowMask.copy(), cv2.RETR_EXTERNAL,cv2.CHAIN_APPROX_SIMPLE)\n",
    "    center=None\n",
    "    if len(cnts)>0:\n",
    "        cnt=sorted(cnts,key=cv2.contourArea,reverse=True)[0]\n",
    "        ((x,y),radius)=cv2.minEnclosingCircle(cnt)\n",
    "        cv2.circle(frame,(int(x),int(y)),int(radius),(255,0,0),2)\n",
    "        m=cv2.moments(cnt)\n",
    "        center=(int(m['m10'] / m['m00']),int(m['m01']/m['m00']))\n",
    "        \n",
    "        if center[1]<=125:\n",
    "            if 30<= center[0] <=80:\n",
    "                bpoints=[deque(maxlen=512)]\n",
    "                gpoints=[deque(maxlen=512)]\n",
    "                rpoints=[deque(maxlen=512)]\n",
    "                ypoints=[deque(maxlen=512)]\n",
    "\n",
    "                bindex=0\n",
    "                gindex=0\n",
    "                rindex=0\n",
    "                yindex=0\n",
    "                frame1[67:,:,:]=255#cgange here\n",
    "            elif 100<= center[0]<=150:\n",
    "                colorindex=0\n",
    "            elif 170<= center[0]<=220:\n",
    "                colorindex=1\n",
    "            elif 240<= center[0]<=290:\n",
    "                colorindex=2\n",
    "            elif 310<= center[0]<=360:\n",
    "                colorindex=3\n",
    "        else:\n",
    "            if colorindex==0:\n",
    "                bpoints[bindex].appendleft(center)\n",
    "            elif colorindex==1:\n",
    "                gpoints[bindex].appendleft(center)   \n",
    "            elif colorindex==2:\n",
    "                rpoints[bindex].appendleft(center)\n",
    "            elif colorindex==3:\n",
    "                ypoints[bindex].appendleft(center)\n",
    "    else:\n",
    "        bpoints.append(deque(maxlen=512))\n",
    "        bindex+=1\n",
    "        gpoints.append(deque(maxlen=512))\n",
    "        gindex+=1\n",
    "        rpoints.append(deque(maxlen=512))\n",
    "        rindex+=1\n",
    "        ypoints.append(deque(maxlen=512))\n",
    "        yindex+=1\n",
    "        \n",
    "    points=[bpoints,gpoints,rpoints,ypoints]\n",
    "    for i in range(len(points)):\n",
    "        for j in range(len(points[i])):\n",
    "            for k in range(1,len(points[i][j])):\n",
    "                if points[i][j][k-1] is None or points[i][j][k] is None:\n",
    "                    continue\n",
    "                cv2.line(frame,points[i][j][k-1],points[i][j][k],colors[i],2)\n",
    "                cv2.line(frame1,points[i][j][k-1],points[i][j][k],colors[i],2)\n",
    "    cv2.imshow(\"tracking\",frame)\n",
    "#     cv2.imshow(\"Paint\",frame1)\n",
    "    \n",
    "    if cv2.waitKey(1) &0xFF ==ord('q'):\n",
    "        break\n",
    "camera.release()\n",
    "cv2.destroyAllWindows()\n",
    "    "
   ]
  },
  {
   "cell_type": "code",
   "execution_count": 8,
   "metadata": {},
   "outputs": [
    {
     "data": {
      "text/plain": [
       "[deque([])]"
      ]
     },
     "execution_count": 8,
     "metadata": {},
     "output_type": "execute_result"
    }
   ],
   "source": [
    "cv2.namedWindow('Paint', cv2.WINDOW_AUTOSIZE)"
   ]
  },
  {
   "cell_type": "code",
   "execution_count": 6,
   "metadata": {},
   "outputs": [
    {
     "data": {
      "text/plain": [
       "(480, 640, 3)"
      ]
     },
     "execution_count": 6,
     "metadata": {},
     "output_type": "execute_result"
    }
   ],
   "source": [
    "frame.shape"
   ]
  },
  {
   "cell_type": "code",
   "execution_count": null,
   "metadata": {},
   "outputs": [],
   "source": []
  }
 ],
 "metadata": {
  "kernelspec": {
   "display_name": "Python 3",
   "language": "python",
   "name": "python3"
  }
 },
 "nbformat": 4,
 "nbformat_minor": 2
}
